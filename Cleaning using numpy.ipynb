{
 "cells": [
  {
   "cell_type": "code",
   "execution_count": 827,
   "id": "4875834c",
   "metadata": {},
   "outputs": [],
   "source": [
    "##importing required library\n",
    "\n",
    "import numpy as np"
   ]
  },
  {
   "cell_type": "code",
   "execution_count": 828,
   "id": "0ad9b7f6",
   "metadata": {},
   "outputs": [],
   "source": [
    "np.set_printoptions(linewidth=100, precision =2, suppress=1 )"
   ]
  },
  {
   "cell_type": "code",
   "execution_count": 829,
   "id": "a97ae4c8",
   "metadata": {},
   "outputs": [
    {
     "data": {
      "text/plain": [
       "array([[48010226.  ,         nan,    35000.  , ...,         nan,         nan,     9452.96],\n",
       "       [57693261.  ,         nan,    30000.  , ...,         nan,         nan,     4679.7 ],\n",
       "       [59432726.  ,         nan,    15000.  , ...,         nan,         nan,     1969.83],\n",
       "       ...,\n",
       "       [50415990.  ,         nan,    10000.  , ...,         nan,         nan,     2185.64],\n",
       "       [46154151.  ,         nan,         nan, ...,         nan,         nan,     3199.4 ],\n",
       "       [66055249.  ,         nan,    10000.  , ...,         nan,         nan,      301.9 ]])"
      ]
     },
     "execution_count": 829,
     "metadata": {},
     "output_type": "execute_result"
    }
   ],
   "source": [
    "##importing the data\n",
    "##skipping the header columns for now\n",
    "\n",
    "raw_data= np.genfromtxt(\"loan-data_1.csv\", delimiter=\";\",\n",
    "                         autostrip=1, skip_header=1)\n",
    "raw_data"
   ]
  },
  {
   "cell_type": "code",
   "execution_count": 830,
   "id": "ec10b4ee",
   "metadata": {},
   "outputs": [
    {
     "data": {
      "text/plain": [
       "(10000, 14)"
      ]
     },
     "execution_count": 830,
     "metadata": {},
     "output_type": "execute_result"
    }
   ],
   "source": [
    "raw_data.shape"
   ]
  },
  {
   "cell_type": "code",
   "execution_count": 831,
   "id": "f81e2c8d",
   "metadata": {},
   "outputs": [
    {
     "name": "stderr",
     "output_type": "stream",
     "text": [
      "C:\\Users\\Tushar\\AppData\\Local\\Temp/ipykernel_9360/664877263.py:3: RuntimeWarning: Mean of empty slice\n",
      "  raw_mean= np.nanmean(raw_data, axis=0)\n"
     ]
    },
    {
     "data": {
      "text/plain": [
       "array([54015809.19,         nan,    15273.46,         nan,    15311.04,         nan,       16.62,\n",
       "            440.92,         nan,         nan,         nan,         nan,         nan,     3143.85])"
      ]
     },
     "execution_count": 831,
     "metadata": {},
     "output_type": "execute_result"
    }
   ],
   "source": [
    "## Getting the mean of all the columns in raw_data\n",
    "\n",
    "raw_mean= np.nanmean(raw_data, axis=0)\n",
    "raw_mean"
   ]
  },
  {
   "cell_type": "code",
   "execution_count": 832,
   "id": "2d16fff6",
   "metadata": {},
   "outputs": [
    {
     "name": "stderr",
     "output_type": "stream",
     "text": [
      "C:\\Users\\Tushar\\AppData\\Local\\Temp/ipykernel_9360/4051618153.py:1: RuntimeWarning: All-NaN slice encountered\n",
      "  raw_max=np.nanmax(raw_data, axis=0)\n",
      "C:\\Users\\Tushar\\AppData\\Local\\Temp/ipykernel_9360/4051618153.py:2: RuntimeWarning: All-NaN slice encountered\n",
      "  raw_min=np.nanmin(raw_data, axis=0)\n"
     ]
    }
   ],
   "source": [
    "raw_max=np.nanmax(raw_data, axis=0)\n",
    "raw_min=np.nanmin(raw_data, axis=0)"
   ]
  },
  {
   "cell_type": "code",
   "execution_count": 833,
   "id": "c6ddfa58",
   "metadata": {
    "scrolled": true
   },
   "outputs": [
    {
     "data": {
      "text/plain": [
       "array([[68616519.  ,         nan,    35000.  ,         nan,    35000.  ,         nan,       28.99,\n",
       "            1372.97,         nan,         nan,         nan,         nan,         nan,    41913.62],\n",
       "       [54015809.19,         nan,    15273.46,         nan,    15311.04,         nan,       16.62,\n",
       "             440.92,         nan,         nan,         nan,         nan,         nan,     3143.85],\n",
       "       [  373332.  ,         nan,     1000.  ,         nan,     1000.  ,         nan,        6.  ,\n",
       "              31.42,         nan,         nan,         nan,         nan,         nan,        0.  ]])"
      ]
     },
     "execution_count": 833,
     "metadata": {},
     "output_type": "execute_result"
    }
   ],
   "source": [
    "##creating an array of maximum, mean and minimum values of all the 14 columns\n",
    "\n",
    "raw_stats= np.array([raw_max, raw_mean, raw_min])\n",
    "raw_stats"
   ]
  },
  {
   "cell_type": "code",
   "execution_count": 834,
   "id": "cbd18bf4",
   "metadata": {},
   "outputs": [
    {
     "data": {
      "text/plain": [
       "68616520.0"
      ]
     },
     "execution_count": 834,
     "metadata": {},
     "output_type": "execute_result"
    }
   ],
   "source": [
    "temporary_fill = np.nanmax(raw_data) + 1\n",
    "temporary_fill"
   ]
  },
  {
   "cell_type": "markdown",
   "id": "e15f0c22",
   "metadata": {},
   "source": [
    "# Seperating the columns with string and numeric values"
   ]
  },
  {
   "cell_type": "code",
   "execution_count": 835,
   "id": "e98b4b0d",
   "metadata": {},
   "outputs": [
    {
     "data": {
      "text/plain": [
       "array([ 1,  3,  5,  8,  9, 10, 11, 12], dtype=int64)"
      ]
     },
     "execution_count": 835,
     "metadata": {},
     "output_type": "execute_result"
    }
   ],
   "source": [
    "##getting the indices of columns with string values \n",
    "\n",
    "\n",
    "col_strings= np.argwhere(np.isnan(raw_mean)).squeeze()\n",
    "col_strings"
   ]
  },
  {
   "cell_type": "code",
   "execution_count": 836,
   "id": "7b7a3b8c",
   "metadata": {},
   "outputs": [
    {
     "data": {
      "text/plain": [
       "array([ 0,  2,  4,  6,  7, 13], dtype=int64)"
      ]
     },
     "execution_count": 836,
     "metadata": {},
     "output_type": "execute_result"
    }
   ],
   "source": [
    "##getting the indices of columns with string values \n",
    "\n",
    "col_numeric= np.argwhere(np.isnan(raw_mean)==False).squeeze()\n",
    "col_numeric"
   ]
  },
  {
   "cell_type": "markdown",
   "id": "9c66c9e2",
   "metadata": {},
   "source": [
    "# Reimporting the data"
   ]
  },
  {
   "cell_type": "code",
   "execution_count": 837,
   "id": "81fa270b",
   "metadata": {},
   "outputs": [
    {
     "name": "stderr",
     "output_type": "stream",
     "text": [
      "C:\\Users\\Tushar\\AppData\\Local\\Temp/ipykernel_9360/1281211472.py:5: DeprecationWarning: `np.str` is a deprecated alias for the builtin `str`. To silence this warning, use `str` by itself. Doing this will not modify any behavior and is safe. If you specifically wanted the numpy scalar type, use `np.str_` here.\n",
      "Deprecated in NumPy 1.20; for more details and guidance: https://numpy.org/devdocs/release/1.20.0-notes.html#deprecations\n",
      "  dtype=np.str, autostrip=1)\n"
     ]
    },
    {
     "data": {
      "text/plain": [
       "array([['May-15', 'Current', '36 months', ..., 'Verified',\n",
       "        'https://www.lendingclub.com/browse/loanDetail.action?loan_id=48010226', 'CA'],\n",
       "       ['', 'Current', '36 months', ..., 'Source Verified',\n",
       "        'https://www.lendingclub.com/browse/loanDetail.action?loan_id=57693261', 'NY'],\n",
       "       ['Sep-15', 'Current', '36 months', ..., 'Verified',\n",
       "        'https://www.lendingclub.com/browse/loanDetail.action?loan_id=59432726', 'PA'],\n",
       "       ...,\n",
       "       ['Jun-15', 'Current', '36 months', ..., 'Source Verified',\n",
       "        'https://www.lendingclub.com/browse/loanDetail.action?loan_id=50415990', 'CA'],\n",
       "       ['Apr-15', 'Current', '36 months', ..., 'Source Verified',\n",
       "        'https://www.lendingclub.com/browse/loanDetail.action?loan_id=46154151', 'OH'],\n",
       "       ['Dec-15', 'Current', '36 months', ..., '',\n",
       "        'https://www.lendingclub.com/browse/loanDetail.action?loan_id=66055249', 'IL']],\n",
       "      dtype='<U69')"
      ]
     },
     "execution_count": 837,
     "metadata": {},
     "output_type": "execute_result"
    }
   ],
   "source": [
    "## array with string values \n",
    "\n",
    "data_string= np.genfromtxt(\"loan-data_1.csv\", delimiter=\";\",\n",
    "                            usecols= col_strings, skip_header=1,\n",
    "                            dtype=np.str, autostrip=1)\n",
    "data_string"
   ]
  },
  {
   "cell_type": "code",
   "execution_count": 838,
   "id": "1a2eeb33",
   "metadata": {},
   "outputs": [
    {
     "data": {
      "text/plain": [
       "array([[48010226.  ,    35000.  ,    35000.  ,       13.33,     1184.86,     9452.96],\n",
       "       [57693261.  ,    30000.  ,    30000.  , 68616520.  ,      938.57,     4679.7 ],\n",
       "       [59432726.  ,    15000.  ,    15000.  , 68616520.  ,      494.86,     1969.83],\n",
       "       ...,\n",
       "       [50415990.  ,    10000.  ,    10000.  , 68616520.  , 68616520.  ,     2185.64],\n",
       "       [46154151.  , 68616520.  ,    10000.  ,       16.55,      354.3 ,     3199.4 ],\n",
       "       [66055249.  ,    10000.  ,    10000.  , 68616520.  ,      309.97,      301.9 ]])"
      ]
     },
     "execution_count": 838,
     "metadata": {},
     "output_type": "execute_result"
    }
   ],
   "source": [
    "## array with numeric values\n",
    "\n",
    "data_numeric= np.genfromtxt(\"loan-data_1.csv\", delimiter=\";\",\n",
    "                            usecols= col_numeric, skip_header=1,\n",
    "                            autostrip=1, filling_values= temporary_fill )\n",
    "data_numeric"
   ]
  },
  {
   "cell_type": "code",
   "execution_count": 839,
   "id": "cebd80b0",
   "metadata": {
    "scrolled": true
   },
   "outputs": [
    {
     "data": {
      "text/plain": [
       "0"
      ]
     },
     "execution_count": 839,
     "metadata": {},
     "output_type": "execute_result"
    }
   ],
   "source": [
    "np.isnan(data_numeric).sum()"
   ]
  },
  {
   "cell_type": "markdown",
   "id": "8dc82e73",
   "metadata": {},
   "source": [
    "# Importing the headings "
   ]
  },
  {
   "cell_type": "code",
   "execution_count": 840,
   "id": "ddaed69c",
   "metadata": {},
   "outputs": [
    {
     "name": "stderr",
     "output_type": "stream",
     "text": [
      "C:\\Users\\Tushar\\AppData\\Local\\Temp/ipykernel_9360/2939851677.py:3: DeprecationWarning: `np.str` is a deprecated alias for the builtin `str`. To silence this warning, use `str` by itself. Doing this will not modify any behavior and is safe. If you specifically wanted the numpy scalar type, use `np.str_` here.\n",
      "Deprecated in NumPy 1.20; for more details and guidance: https://numpy.org/devdocs/release/1.20.0-notes.html#deprecations\n",
      "  autostrip=1,dtype=np.str )\n"
     ]
    },
    {
     "data": {
      "text/plain": [
       "array(['id', 'issue_d', 'loan_amnt', 'loan_status', 'funded_amnt', 'term', 'int_rate',\n",
       "       'installment', 'grade', 'sub_grade', 'verification_status', 'url', 'addr_state',\n",
       "       'total_pymnt'], dtype='<U19')"
      ]
     },
     "execution_count": 840,
     "metadata": {},
     "output_type": "execute_result"
    }
   ],
   "source": [
    "header_full = np.genfromtxt(\"loan-data_1.csv\", delimiter=\";\"\n",
    "                            , skip_footer=raw_data.shape[0],\n",
    "                            autostrip=1,dtype=np.str )\n",
    "header_full"
   ]
  },
  {
   "cell_type": "code",
   "execution_count": 841,
   "id": "7bb493c7",
   "metadata": {},
   "outputs": [
    {
     "data": {
      "text/plain": [
       "array(['issue_d', 'loan_status', 'term', 'grade', 'sub_grade', 'verification_status', 'url',\n",
       "       'addr_state'], dtype='<U19')"
      ]
     },
     "execution_count": 841,
     "metadata": {},
     "output_type": "execute_result"
    }
   ],
   "source": [
    "## Seperating the headers of string columns from that of numeric columns\n",
    "\n",
    "header_strings= header_full[col_strings]\n",
    "header_strings"
   ]
  },
  {
   "cell_type": "code",
   "execution_count": 842,
   "id": "ee96f4b4",
   "metadata": {},
   "outputs": [
    {
     "data": {
      "text/plain": [
       "array(['id', 'loan_amnt', 'funded_amnt', 'int_rate', 'installment', 'total_pymnt'], dtype='<U19')"
      ]
     },
     "execution_count": 842,
     "metadata": {},
     "output_type": "execute_result"
    }
   ],
   "source": [
    "header_numeric= header_full[col_numeric]\n",
    "header_numeric"
   ]
  },
  {
   "cell_type": "markdown",
   "id": "70f21cac",
   "metadata": {},
   "source": [
    "# Manipulating String Data"
   ]
  },
  {
   "cell_type": "markdown",
   "id": "1462df1b",
   "metadata": {},
   "source": [
    "## Issue date"
   ]
  },
  {
   "cell_type": "code",
   "execution_count": 843,
   "id": "46f0796d",
   "metadata": {},
   "outputs": [
    {
     "data": {
      "text/plain": [
       "array(['issue_d', 'loan_status', 'term', 'grade', 'sub_grade', 'verification_status', 'url',\n",
       "       'addr_state'], dtype='<U19')"
      ]
     },
     "execution_count": 843,
     "metadata": {},
     "output_type": "execute_result"
    }
   ],
   "source": [
    "header_strings"
   ]
  },
  {
   "cell_type": "code",
   "execution_count": 844,
   "id": "2ffe76ef",
   "metadata": {},
   "outputs": [],
   "source": [
    "header_strings[0]='issue_date'"
   ]
  },
  {
   "cell_type": "code",
   "execution_count": 845,
   "id": "8149e135",
   "metadata": {},
   "outputs": [
    {
     "data": {
      "text/plain": [
       "array(['', 'Apr-15', 'Aug-15', 'Dec-15', 'Feb-15', 'Jan-15', 'Jul-15', 'Jun-15', 'Mar-15',\n",
       "       'May-15', 'Nov-15', 'Oct-15', 'Sep-15'], dtype='<U69')"
      ]
     },
     "execution_count": 845,
     "metadata": {},
     "output_type": "execute_result"
    }
   ],
   "source": [
    "np.unique(data_string[:,0])"
   ]
  },
  {
   "cell_type": "code",
   "execution_count": 846,
   "id": "a4127a32",
   "metadata": {
    "scrolled": true
   },
   "outputs": [
    {
     "data": {
      "text/plain": [
       "array(['', 'Apr', 'Aug', 'Dec', 'Feb', 'Jan', 'Jul', 'Jun', 'Mar', 'May', 'Nov', 'Oct', 'Sep'],\n",
       "      dtype='<U69')"
      ]
     },
     "execution_count": 846,
     "metadata": {},
     "output_type": "execute_result"
    }
   ],
   "source": [
    "## As all the data is from 2015, we can strip the '-15' part from the issue date column\n",
    "\n",
    "data_string[:,0]= np.chararray.strip(data_string[:,0],'-15')\n",
    "np.unique(data_string[:,0])"
   ]
  },
  {
   "cell_type": "code",
   "execution_count": 847,
   "id": "628b865a",
   "metadata": {},
   "outputs": [
    {
     "data": {
      "text/plain": [
       "array(['Apr', 'Aug', 'Dec', 'Feb', 'Jan', 'Jul', 'Jun', 'Mar', 'May', 'Nov', 'Oct', 'Sep',\n",
       "       'red_flag'], dtype='<U69')"
      ]
     },
     "execution_count": 847,
     "metadata": {},
     "output_type": "execute_result"
    }
   ],
   "source": [
    "## As the issue date is not mentioned by some clients, we will mark them as 'red_flag' for further analysis\n",
    "\n",
    "\n",
    "data_string[:,0]= np.where(data_string[:,0]=='',\n",
    "                           'red_flag',\n",
    "                            data_string[:,0])\n",
    "np.unique(data_string[:,0])"
   ]
  },
  {
   "cell_type": "markdown",
   "id": "13c6d515",
   "metadata": {},
   "source": [
    "## Loan Status"
   ]
  },
  {
   "cell_type": "code",
   "execution_count": 848,
   "id": "14ac4e69",
   "metadata": {},
   "outputs": [
    {
     "data": {
      "text/plain": [
       "array(['issue_date', 'loan_status', 'term', 'grade', 'sub_grade', 'verification_status', 'url',\n",
       "       'addr_state'], dtype='<U19')"
      ]
     },
     "execution_count": 848,
     "metadata": {},
     "output_type": "execute_result"
    }
   ],
   "source": [
    "header_strings"
   ]
  },
  {
   "cell_type": "code",
   "execution_count": 849,
   "id": "bdcfbcd1",
   "metadata": {},
   "outputs": [
    {
     "data": {
      "text/plain": [
       "array(['', 'Charged Off', 'Current', 'Default', 'Fully Paid', 'In Grace Period', 'Issued',\n",
       "       'Late (16-30 days)', 'Late (31-120 days)'], dtype='<U69')"
      ]
     },
     "execution_count": 849,
     "metadata": {},
     "output_type": "execute_result"
    }
   ],
   "source": [
    "np.unique(data_string[:,1])"
   ]
  },
  {
   "cell_type": "code",
   "execution_count": 850,
   "id": "e67718b2",
   "metadata": {},
   "outputs": [],
   "source": [
    "## Loan status is not mentioned by some clients, so let's mark their status filed, 'red_flag'\n",
    "## Also, default, charged-off and payment late by 31 to 120 days will be marked 'red_flag'\n",
    "\n",
    "\n",
    "bad_status= np.array(['Late (31-120 days)','Default','Charged Off', '' ])"
   ]
  },
  {
   "cell_type": "code",
   "execution_count": 851,
   "id": "26a17b48",
   "metadata": {},
   "outputs": [
    {
     "data": {
      "text/plain": [
       "array(['OK', 'red_flag'], dtype='<U69')"
      ]
     },
     "execution_count": 851,
     "metadata": {},
     "output_type": "execute_result"
    }
   ],
   "source": [
    "## Marking all the other fields of status column as 'OK'\n",
    "\n",
    "\n",
    "data_string[:,1]= np.where(np.isin(data_string[:,1],bad_status),\n",
    "                           'red_flag',\n",
    "                            'OK')\n",
    "np.unique(data_string[:,1])"
   ]
  },
  {
   "cell_type": "markdown",
   "id": "c7b7dc81",
   "metadata": {},
   "source": [
    "## Term Loan"
   ]
  },
  {
   "cell_type": "code",
   "execution_count": 852,
   "id": "2f1204c5",
   "metadata": {},
   "outputs": [
    {
     "data": {
      "text/plain": [
       "array(['', '36 months', '60 months'], dtype='<U69')"
      ]
     },
     "execution_count": 852,
     "metadata": {},
     "output_type": "execute_result"
    }
   ],
   "source": [
    "np.unique(data_string[:,2])"
   ]
  },
  {
   "cell_type": "code",
   "execution_count": 853,
   "id": "674fe4b4",
   "metadata": {},
   "outputs": [
    {
     "data": {
      "text/plain": [
       "array(['', '36', '60'], dtype='<U69')"
      ]
     },
     "execution_count": 853,
     "metadata": {},
     "output_type": "execute_result"
    }
   ],
   "source": [
    "## As mentions earlier, it is better to consider the worst when a field is not mentioned by the client\n",
    "## so changing the null values in term loan section to 60-months\n",
    "## Also we will remove the ' months' part from the string for convinient analysis\n",
    "\n",
    "\n",
    "data_string[:,2]= np.chararray.strip(data_string[:,2],' months')\n",
    "np.unique(data_string[:,2])"
   ]
  },
  {
   "cell_type": "code",
   "execution_count": 854,
   "id": "b9768bf4",
   "metadata": {},
   "outputs": [
    {
     "data": {
      "text/plain": [
       "array(['36', '60'], dtype='<U69')"
      ]
     },
     "execution_count": 854,
     "metadata": {},
     "output_type": "execute_result"
    }
   ],
   "source": [
    "data_string[:,2]=np.where(data_string[:,2]=='',\n",
    "                          '60',\n",
    "                           data_string[:,2])\n",
    "np.unique(data_string[:,2])"
   ]
  },
  {
   "cell_type": "code",
   "execution_count": 855,
   "id": "da545f02",
   "metadata": {},
   "outputs": [
    {
     "data": {
      "text/plain": [
       "array(['issue_date', 'loan_status', 'term', 'grade', 'sub_grade', 'verification_status', 'url',\n",
       "       'addr_state'], dtype='<U19')"
      ]
     },
     "execution_count": 855,
     "metadata": {},
     "output_type": "execute_result"
    }
   ],
   "source": [
    "header_strings"
   ]
  },
  {
   "cell_type": "markdown",
   "id": "15e5cdb9",
   "metadata": {},
   "source": [
    "## Loan-Grade and Sub-Grade"
   ]
  },
  {
   "cell_type": "code",
   "execution_count": 856,
   "id": "3b84ca5e",
   "metadata": {},
   "outputs": [],
   "source": [
    "## As loan-grade and sub-grade are linked, we can try to manipulate them together"
   ]
  },
  {
   "cell_type": "code",
   "execution_count": 857,
   "id": "3fe3947c",
   "metadata": {},
   "outputs": [
    {
     "data": {
      "text/plain": [
       "array(['', 'A', 'B', 'C', 'D', 'E', 'F', 'G'], dtype='<U69')"
      ]
     },
     "execution_count": 857,
     "metadata": {},
     "output_type": "execute_result"
    }
   ],
   "source": [
    "np.unique(data_string[:,3])"
   ]
  },
  {
   "cell_type": "code",
   "execution_count": 858,
   "id": "b14c9466",
   "metadata": {
    "scrolled": false
   },
   "outputs": [
    {
     "data": {
      "text/plain": [
       "(array(['', 'A1', 'A2', 'A3', 'A4', 'A5', 'B1', 'B2', 'B3', 'B4', 'B5', 'C1', 'C2', 'C3', 'C4',\n",
       "        'C5', 'D1', 'D2', 'D3', 'D4', 'D5', 'E1', 'E2', 'E3', 'E4', 'E5', 'F1', 'F2', 'F3', 'F4',\n",
       "        'F5', 'G1', 'G2', 'G3', 'G4', 'G5'], dtype='<U69'),\n",
       " array([514, 285, 278, 239, 323, 502, 509, 517, 530, 553, 494, 629, 567, 586, 564, 423, 391, 267,\n",
       "        250, 255, 223, 235, 162, 171, 139, 114,  94,  52,  34,  43,  16,  19,  10,   3,   7,   2],\n",
       "       dtype=int64))"
      ]
     },
     "execution_count": 858,
     "metadata": {},
     "output_type": "execute_result"
    }
   ],
   "source": [
    "np.unique(data_string[:,4], return_counts=1)"
   ]
  },
  {
   "cell_type": "code",
   "execution_count": 859,
   "id": "70bef8cf",
   "metadata": {},
   "outputs": [],
   "source": [
    "## For every element we saw in grade, we have five different elements in sub grade.\n",
    "## Therefore, if the data is complete, any information we can get from the great column can also be obtained\n",
    "## from the sub grade column that in theory makes the former redundant.\n",
    "\n"
   ]
  },
  {
   "cell_type": "code",
   "execution_count": 860,
   "id": "99992ab4",
   "metadata": {},
   "outputs": [
    {
     "data": {
      "text/plain": [
       "(array(['', 'A1', 'A2', 'A3', 'A4', 'A5', 'B1', 'B2', 'B3', 'B4', 'B5', 'C1', 'C2', 'C3', 'C4',\n",
       "        'C5', 'D1', 'D2', 'D3', 'D4', 'D5', 'E1', 'E2', 'E3', 'E4', 'E5', 'F1', 'F2', 'F3', 'F4',\n",
       "        'F5', 'G1', 'G2', 'G3', 'G4', 'G5'], dtype='<U69'),\n",
       " array([  9, 285, 278, 239, 323, 592, 509, 517, 530, 553, 633, 629, 567, 586, 564, 577, 391, 267,\n",
       "        250, 255, 288, 235, 162, 171, 139, 160,  94,  52,  34,  43,  24,  19,  10,   3,   7,   5],\n",
       "       dtype=int64))"
      ]
     },
     "execution_count": 860,
     "metadata": {},
     "output_type": "execute_result"
    }
   ],
   "source": [
    "## As there are a few null values in the subgrade column, we can check if the same client has mentioned\n",
    "## an apropriate value in the grade column and handle the missing values accordingly\n",
    "\n",
    "\n",
    "for i in np.unique(data_string[:,3])[1:]:\n",
    "    data_string[:,4]= np.where((data_string[:,4]=='') & (data_string[:,3]==i),\n",
    "                                i + '5',\n",
    "                                data_string[:,4])\n",
    "np.unique(data_string[:,4], return_counts=1)"
   ]
  },
  {
   "cell_type": "code",
   "execution_count": 861,
   "id": "547ad332",
   "metadata": {
    "scrolled": true
   },
   "outputs": [
    {
     "data": {
      "text/plain": [
       "(array(['A1', 'A2', 'A3', 'A4', 'A5', 'B1', 'B2', 'B3', 'B4', 'B5', 'C1', 'C2', 'C3', 'C4', 'C5',\n",
       "        'D1', 'D2', 'D3', 'D4', 'D5', 'E1', 'E2', 'E3', 'E4', 'E5', 'F1', 'F2', 'F3', 'F4', 'F5',\n",
       "        'G1', 'G2', 'G3', 'G4', 'G5', 'red_flag'], dtype='<U69'),\n",
       " array([285, 278, 239, 323, 592, 509, 517, 530, 553, 633, 629, 567, 586, 564, 577, 391, 267, 250,\n",
       "        255, 288, 235, 162, 171, 139, 160,  94,  52,  34,  43,  24,  19,  10,   3,   7,   5,   9],\n",
       "       dtype=int64))"
      ]
     },
     "execution_count": 861,
     "metadata": {},
     "output_type": "execute_result"
    }
   ],
   "source": [
    "## For the id's(clients) haveing null values in both grade and sub-grade column, we can mark those \n",
    "## values as 'red_flag'\n",
    "\n",
    "\n",
    "data_string[:,4]= np.where(data_string[:,4]=='',\n",
    "                           'red_flag',\n",
    "                            data_string[:,4])\n",
    "np.unique(data_string[:,4], return_counts=1)"
   ]
  },
  {
   "cell_type": "code",
   "execution_count": 862,
   "id": "dfef880e",
   "metadata": {},
   "outputs": [
    {
     "data": {
      "text/plain": [
       "(36,)"
      ]
     },
     "execution_count": 862,
     "metadata": {},
     "output_type": "execute_result"
    }
   ],
   "source": [
    "np.unique(data_string[:,4]).shape"
   ]
  },
  {
   "cell_type": "markdown",
   "id": "cb6ff1b5",
   "metadata": {},
   "source": [
    "## Converting sub-grade to numbers"
   ]
  },
  {
   "cell_type": "code",
   "execution_count": 863,
   "id": "a99fb12e",
   "metadata": {},
   "outputs": [
    {
     "data": {
      "text/plain": [
       "{'A1': 1,\n",
       " 'A2': 2,\n",
       " 'A3': 3,\n",
       " 'A4': 4,\n",
       " 'A5': 5,\n",
       " 'B1': 6,\n",
       " 'B2': 7,\n",
       " 'B3': 8,\n",
       " 'B4': 9,\n",
       " 'B5': 10,\n",
       " 'C1': 11,\n",
       " 'C2': 12,\n",
       " 'C3': 13,\n",
       " 'C4': 14,\n",
       " 'C5': 15,\n",
       " 'D1': 16,\n",
       " 'D2': 17,\n",
       " 'D3': 18,\n",
       " 'D4': 19,\n",
       " 'D5': 20,\n",
       " 'E1': 21,\n",
       " 'E2': 22,\n",
       " 'E3': 23,\n",
       " 'E4': 24,\n",
       " 'E5': 25,\n",
       " 'F1': 26,\n",
       " 'F2': 27,\n",
       " 'F3': 28,\n",
       " 'F4': 29,\n",
       " 'F5': 30,\n",
       " 'G1': 31,\n",
       " 'G2': 32,\n",
       " 'G3': 33,\n",
       " 'G4': 34,\n",
       " 'G5': 35,\n",
       " 'red_flag': 36}"
      ]
     },
     "execution_count": 863,
     "metadata": {},
     "output_type": "execute_result"
    }
   ],
   "source": [
    "## Let's construct a dictionary called dict_grade\n",
    "## In this dictionary, every key will be a unique sub-grade represented as a string, while the value associated\n",
    "## with it will designate a rank of trustworthiness and it will be a number\n",
    "\n",
    "\n",
    "key= list(np.unique(data_string[:,4]))\n",
    "values= list(range(1, np.unique(data_string[:,4]).shape[0] +1))\n",
    "dict_grade= dict(zip(key,values))\n",
    "dict_grade"
   ]
  },
  {
   "cell_type": "code",
   "execution_count": 864,
   "id": "fed7d3fb",
   "metadata": {},
   "outputs": [
    {
     "data": {
      "text/plain": [
       "(array(['1', '10', '11', '12', '13', '14', '15', '16', '17', '18', '19', '2', '20', '21', '22',\n",
       "        '23', '24', '25', '26', '27', '28', '29', '3', '30', '31', '32', '33', '34', '35', '36',\n",
       "        '4', '5', '6', '7', '8', '9'], dtype='<U69'),\n",
       " array([285, 633, 629, 567, 586, 564, 577, 391, 267, 250, 255, 278, 288, 235, 162, 171, 139, 160,\n",
       "         94,  52,  34,  43, 239,  24,  19,  10,   3,   7,   5,   9, 323, 592, 509, 517, 530, 553],\n",
       "       dtype=int64))"
      ]
     },
     "execution_count": 864,
     "metadata": {},
     "output_type": "execute_result"
    }
   ],
   "source": [
    "for i in key:\n",
    "    data_string[:,4]= np.where(data_string[:,4]==i,\n",
    "                               dict_grade[i],\n",
    "                               data_string[:,4])\n",
    "np.unique(data_string[:,4], return_counts=1)"
   ]
  },
  {
   "cell_type": "code",
   "execution_count": 865,
   "id": "0834b4bd",
   "metadata": {
    "scrolled": false
   },
   "outputs": [
    {
     "data": {
      "text/plain": [
       "(array(['1', '10', '11', '12', '13', '14', '15', '16', '17', '18', '19', '2', '20', '21', '22',\n",
       "        '23', '24', '25', '26', '27', '28', '29', '3', '30', '31', '32', '33', '34', '35', '4', '5',\n",
       "        '6', '7', '8', '9', 'red_flag'], dtype='<U69'),\n",
       " array([285, 633, 629, 567, 586, 564, 577, 391, 267, 250, 255, 278, 288, 235, 162, 171, 139, 160,\n",
       "         94,  52,  34,  43, 239,  24,  19,  10,   3,   7,   5, 323, 592, 509, 517, 530, 553,   9],\n",
       "       dtype=int64))"
      ]
     },
     "execution_count": 865,
     "metadata": {},
     "output_type": "execute_result"
    }
   ],
   "source": [
    "data_string[:,4]=np.where(data_string[:,4]=='36',\n",
    "                          'red_flag',\n",
    "                          data_string[:,4])\n",
    "np.unique(data_string[:,4], return_counts=1)"
   ]
  },
  {
   "cell_type": "markdown",
   "id": "b5bf178a",
   "metadata": {},
   "source": [
    "## Removing grade column"
   ]
  },
  {
   "cell_type": "code",
   "execution_count": 866,
   "id": "a4566e7a",
   "metadata": {},
   "outputs": [
    {
     "data": {
      "text/plain": [
       "array(['C', 'A', 'B', ..., 'A', 'D', 'A'], dtype='<U69')"
      ]
     },
     "execution_count": 866,
     "metadata": {},
     "output_type": "execute_result"
    }
   ],
   "source": [
    "data_string[:,3]"
   ]
  },
  {
   "cell_type": "code",
   "execution_count": 867,
   "id": "8dff32b0",
   "metadata": {},
   "outputs": [],
   "source": [
    "data_string=np.delete(data_string, 3, axis=1)"
   ]
  },
  {
   "cell_type": "code",
   "execution_count": 868,
   "id": "e07a4514",
   "metadata": {},
   "outputs": [
    {
     "data": {
      "text/plain": [
       "array(['13', '5', '10', ..., '5', '17', '4'], dtype='<U69')"
      ]
     },
     "execution_count": 868,
     "metadata": {},
     "output_type": "execute_result"
    }
   ],
   "source": [
    "data_string[:,3]"
   ]
  },
  {
   "cell_type": "code",
   "execution_count": 869,
   "id": "328b0e27",
   "metadata": {},
   "outputs": [
    {
     "data": {
      "text/plain": [
       "array(['issue_date', 'loan_status', 'term', 'sub_grade', 'verification_status', 'url',\n",
       "       'addr_state'], dtype='<U19')"
      ]
     },
     "execution_count": 869,
     "metadata": {},
     "output_type": "execute_result"
    }
   ],
   "source": [
    "header_strings=np.delete(header_strings, 3)\n",
    "header_strings"
   ]
  },
  {
   "cell_type": "markdown",
   "id": "e5dc2b79",
   "metadata": {},
   "source": [
    "## Verification Status"
   ]
  },
  {
   "cell_type": "code",
   "execution_count": 870,
   "id": "ff5b03e3",
   "metadata": {},
   "outputs": [
    {
     "data": {
      "text/plain": [
       "array(['', 'Not Verified', 'Source Verified', 'Verified'], dtype='<U69')"
      ]
     },
     "execution_count": 870,
     "metadata": {},
     "output_type": "execute_result"
    }
   ],
   "source": [
    "np.unique(data_string[:,4])"
   ]
  },
  {
   "cell_type": "code",
   "execution_count": 871,
   "id": "b5187a73",
   "metadata": {},
   "outputs": [
    {
     "data": {
      "text/plain": [
       "array(['OK', 'red_flag'], dtype='<U69')"
      ]
     },
     "execution_count": 871,
     "metadata": {},
     "output_type": "execute_result"
    }
   ],
   "source": [
    "## Marking the not mentioned values and the not verified field as 'red_flag'\n",
    "## Also we can mark the verified field as 'OK' for convinience in further analysis\n",
    "\n",
    "\n",
    "\n",
    "data_string[:,4]= np.where((data_string[:,4]=='') | (data_string[:,4]=='Not Verified'),\n",
    "                            'red_flag',\n",
    "                            'OK')\n",
    "np.unique(data_string[:,4])"
   ]
  },
  {
   "cell_type": "markdown",
   "id": "7613aa2c",
   "metadata": {},
   "source": [
    "## URL"
   ]
  },
  {
   "cell_type": "code",
   "execution_count": 872,
   "id": "4d88bb62",
   "metadata": {},
   "outputs": [
    {
     "data": {
      "text/plain": [
       "array(['https://www.lendingclub.com/browse/loanDetail.action?loan_id=48010226',\n",
       "       'https://www.lendingclub.com/browse/loanDetail.action?loan_id=57693261',\n",
       "       'https://www.lendingclub.com/browse/loanDetail.action?loan_id=59432726', ...,\n",
       "       'https://www.lendingclub.com/browse/loanDetail.action?loan_id=50415990',\n",
       "       'https://www.lendingclub.com/browse/loanDetail.action?loan_id=46154151',\n",
       "       'https://www.lendingclub.com/browse/loanDetail.action?loan_id=66055249'], dtype='<U69')"
      ]
     },
     "execution_count": 872,
     "metadata": {},
     "output_type": "execute_result"
    }
   ],
   "source": [
    "data_string[:,5]"
   ]
  },
  {
   "cell_type": "code",
   "execution_count": 873,
   "id": "b69aedf9",
   "metadata": {},
   "outputs": [
    {
     "data": {
      "text/plain": [
       "array(['48010226', '57693261', '59432726', ..., '50415990', '46154151', '66055249'], dtype='<U69')"
      ]
     },
     "execution_count": 873,
     "metadata": {},
     "output_type": "execute_result"
    }
   ],
   "source": [
    "## Let's remove the repeting part in all the URLs using the strip function\n",
    "\n",
    "\n",
    "data_string[:,5]=np.chararray.strip(data_string[:,5], 'https://www.lendingclub.com/browse/loanDetail.action?loan_id=')\n",
    "data_string[:,5]"
   ]
  },
  {
   "cell_type": "code",
   "execution_count": 874,
   "id": "d02321b0",
   "metadata": {},
   "outputs": [
    {
     "data": {
      "text/plain": [
       "True"
      ]
     },
     "execution_count": 874,
     "metadata": {},
     "output_type": "execute_result"
    }
   ],
   "source": [
    "## The remaining part of the URL seems to be a unique value for every row\n",
    "## Let us verify if the remaining part of URL matches with the IDs in the numeric data.\n",
    "\n",
    "\n",
    "np.array_equal(data_numeric[:,0].astype(dtype=np.int32),\n",
    "               data_string[:,5].astype(dtype=np.int32))"
   ]
  },
  {
   "cell_type": "code",
   "execution_count": 875,
   "id": "3fd3a2fd",
   "metadata": {},
   "outputs": [],
   "source": [
    "data_string=np.delete(data_string, 5, axis=1)\n",
    "header_strings= np.delete(header_strings, 5)"
   ]
  },
  {
   "cell_type": "code",
   "execution_count": 876,
   "id": "e39f0263",
   "metadata": {},
   "outputs": [
    {
     "data": {
      "text/plain": [
       "array(['issue_date', 'loan_status', 'term', 'sub_grade', 'verification_status', 'addr_state'],\n",
       "      dtype='<U19')"
      ]
     },
     "execution_count": 876,
     "metadata": {},
     "output_type": "execute_result"
    }
   ],
   "source": [
    "header_strings"
   ]
  },
  {
   "cell_type": "code",
   "execution_count": 877,
   "id": "fa979fbd",
   "metadata": {},
   "outputs": [
    {
     "data": {
      "text/plain": [
       "array([['May', 'OK', '36', '13', 'OK', 'CA'],\n",
       "       ['red_flag', 'OK', '36', '5', 'OK', 'NY'],\n",
       "       ['Sep', 'OK', '36', '10', 'OK', 'PA'],\n",
       "       ...,\n",
       "       ['Jun', 'OK', '36', '5', 'OK', 'CA'],\n",
       "       ['Apr', 'OK', '36', '17', 'OK', 'OH'],\n",
       "       ['Dec', 'OK', '36', '4', 'red_flag', 'IL']], dtype='<U69')"
      ]
     },
     "execution_count": 877,
     "metadata": {},
     "output_type": "execute_result"
    }
   ],
   "source": [
    "data_string"
   ]
  },
  {
   "cell_type": "code",
   "execution_count": 878,
   "id": "7c53a005",
   "metadata": {},
   "outputs": [
    {
     "data": {
      "text/plain": [
       "(10000, 6)"
      ]
     },
     "execution_count": 878,
     "metadata": {},
     "output_type": "execute_result"
    }
   ],
   "source": [
    "data_string.shape"
   ]
  },
  {
   "cell_type": "code",
   "execution_count": 879,
   "id": "8c58b93b",
   "metadata": {
    "scrolled": true
   },
   "outputs": [
    {
     "data": {
      "text/plain": [
       "(6,)"
      ]
     },
     "execution_count": 879,
     "metadata": {},
     "output_type": "execute_result"
    }
   ],
   "source": [
    "header_strings.shape"
   ]
  },
  {
   "cell_type": "markdown",
   "id": "90c1164b",
   "metadata": {},
   "source": [
    "## State Address"
   ]
  },
  {
   "cell_type": "code",
   "execution_count": 880,
   "id": "0824b279",
   "metadata": {},
   "outputs": [
    {
     "data": {
      "text/plain": [
       "array(['', 'AK', 'AL', 'AR', 'AZ', 'CA', 'CO', 'CT', 'DC', 'DE', 'FL', 'GA', 'HI', 'IL', 'IN',\n",
       "       'KS', 'KY', 'LA', 'MA', 'MD', 'ME', 'MI', 'MN', 'MO', 'MS', 'MT', 'NC', 'ND', 'NE', 'NH',\n",
       "       'NJ', 'NM', 'NV', 'NY', 'OH', 'OK', 'OR', 'PA', 'RI', 'SC', 'SD', 'TN', 'TX', 'UT', 'VA',\n",
       "       'VT', 'WA', 'WI', 'WV', 'WY'], dtype='<U69')"
      ]
     },
     "execution_count": 880,
     "metadata": {},
     "output_type": "execute_result"
    }
   ],
   "source": [
    "np.unique(data_string[:,5])"
   ]
  },
  {
   "cell_type": "code",
   "execution_count": 881,
   "id": "333e8ce5",
   "metadata": {},
   "outputs": [
    {
     "data": {
      "text/plain": [
       "array(['AK', 'AL', 'AR', 'AZ', 'CA', 'CO', 'CT', 'DC', 'DE', 'FL', 'GA', 'HI', 'IL', 'IN', 'KS',\n",
       "       'KY', 'LA', 'MA', 'MD', 'ME', 'MI', 'MN', 'MO', 'MS', 'MT', 'NC', 'ND', 'NE', 'NH', 'NJ',\n",
       "       'NM', 'NV', 'NY', 'OH', 'OK', 'OR', 'PA', 'RI', 'SC', 'SD', 'TN', 'TX', 'UT', 'VA', 'VT',\n",
       "       'WA', 'WI', 'WV', 'WY', 'red_flag'], dtype='<U69')"
      ]
     },
     "execution_count": 881,
     "metadata": {},
     "output_type": "execute_result"
    }
   ],
   "source": [
    "## Let's mark the values not mentioned by the client as 'red_flag'\n",
    "\n",
    "\n",
    "data_string[:,5]=np.where(data_string[:,5]=='',\n",
    "                          'red_flag',\n",
    "                           data_string[:,5])\n",
    "np.unique(data_string[:,5])"
   ]
  },
  {
   "cell_type": "code",
   "execution_count": 882,
   "id": "fcfb1c70",
   "metadata": {},
   "outputs": [
    {
     "name": "stderr",
     "output_type": "stream",
     "text": [
      "C:\\Users\\Tushar\\AppData\\Local\\Temp/ipykernel_9360/2397863344.py:8: DeprecationWarning: `np.str` is a deprecated alias for the builtin `str`. To silence this warning, use `str` by itself. Doing this will not modify any behavior and is safe. If you specifically wanted the numpy scalar type, use `np.str_` here.\n",
      "Deprecated in NumPy 1.20; for more details and guidance: https://numpy.org/devdocs/release/1.20.0-notes.html#deprecations\n",
      "  dtype=np.str)\n",
      "C:\\Users\\Tushar\\AppData\\Local\\Temp/ipykernel_9360/2397863344.py:10: DeprecationWarning: `np.str` is a deprecated alias for the builtin `str`. To silence this warning, use `str` by itself. Doing this will not modify any behavior and is safe. If you specifically wanted the numpy scalar type, use `np.str_` here.\n",
      "Deprecated in NumPy 1.20; for more details and guidance: https://numpy.org/devdocs/release/1.20.0-notes.html#deprecations\n",
      "  dtype=np.str)\n"
     ]
    }
   ],
   "source": [
    "## As we can see, the states are in abbrivation form\n",
    "## For convience in analysis, lets change it to the full-form name of the states\n",
    "\n",
    "## Importing a file with the full names of American states\n",
    "\n",
    "\n",
    "state_names=np.genfromtxt(\"state_n1.csv\", delimiter=\";\",\n",
    "                          dtype=np.str)\n",
    "state_abb=np.genfromtxt(\"state_abrivation.csv\", delimiter=\";\",\n",
    "                          dtype=np.str)"
   ]
  },
  {
   "cell_type": "code",
   "execution_count": 883,
   "id": "d28fc0ed",
   "metadata": {
    "scrolled": true
   },
   "outputs": [
    {
     "data": {
      "text/plain": [
       "array(['Alabama', 'Alaska', 'Arizona', 'Arkansas', 'California', 'Colorado', 'Connecticut',\n",
       "       'Delaware', 'Florida', 'Georgia', 'Hawaii', 'Idaho', 'Illinois', 'Indiana', 'Iowa',\n",
       "       'Kansas', 'Kentucky', 'Louisiana', 'Maine', 'Maryland', 'Massachusetts', 'Michigan',\n",
       "       'Minnesota', 'Mississippi', 'Missouri', 'Montana', 'Nebraska', 'Nevada', 'New Hampshire',\n",
       "       'New Jersey', 'New Mexico', 'New York', 'North Carolina', 'North Dakota', 'Ohio',\n",
       "       'Oklahoma', 'Oregon', 'Pennsylvania', 'Rhode Island', 'South Carolina', 'South Dakota',\n",
       "       'Tennessee', 'Texas', 'Utah', 'Vermont', 'Virginia', 'Washington', 'West Virginia',\n",
       "       'Wisconsin', 'Wyoming'], dtype='<U14')"
      ]
     },
     "execution_count": 883,
     "metadata": {},
     "output_type": "execute_result"
    }
   ],
   "source": [
    "np.unique(state_names)"
   ]
  },
  {
   "cell_type": "code",
   "execution_count": 884,
   "id": "a9a738ad",
   "metadata": {},
   "outputs": [
    {
     "data": {
      "text/plain": [
       "array(['AL', 'AK', 'AZ', 'AR', 'CA', 'CO', 'CT', 'DE', 'FL', 'GA', 'HI', 'ID', 'IL', 'IN', 'IA',\n",
       "       'KS', 'KY', 'LA', 'ME', 'MD', 'MA', 'MI', 'MN', 'MS', 'MO', 'MT', 'NE', 'NV', 'NH', 'NJ',\n",
       "       'NM', 'NY', 'NC', 'ND', 'OH', 'OK', 'OR', 'PA', 'RI', 'SC', 'SD', 'TN', 'TX', 'UT', 'VT',\n",
       "       'VA', 'WA', 'WV', 'WI', 'WY'], dtype='<U2')"
      ]
     },
     "execution_count": 884,
     "metadata": {},
     "output_type": "execute_result"
    }
   ],
   "source": [
    "state_abb"
   ]
  },
  {
   "cell_type": "code",
   "execution_count": 885,
   "id": "48246c0e",
   "metadata": {},
   "outputs": [
    {
     "data": {
      "text/plain": [
       "{'AL': 'Alabama',\n",
       " 'AK': 'Alaska',\n",
       " 'AZ': 'Arizona',\n",
       " 'AR': 'Arkansas',\n",
       " 'CA': 'California',\n",
       " 'CO': 'Colorado',\n",
       " 'CT': 'Connecticut',\n",
       " 'DE': 'Delaware',\n",
       " 'FL': 'Florida',\n",
       " 'GA': 'Georgia',\n",
       " 'HI': 'Hawaii',\n",
       " 'ID': 'Idaho',\n",
       " 'IL': 'Illinois',\n",
       " 'IN': 'Indiana',\n",
       " 'IA': 'Iowa',\n",
       " 'KS': 'Kansas',\n",
       " 'KY': 'Kentucky',\n",
       " 'LA': 'Louisiana',\n",
       " 'ME': 'Maine',\n",
       " 'MD': 'Maryland',\n",
       " 'MA': 'Massachusetts',\n",
       " 'MI': 'Michigan',\n",
       " 'MN': 'Minnesota',\n",
       " 'MS': 'Mississippi',\n",
       " 'MO': 'Missouri',\n",
       " 'MT': 'Montana',\n",
       " 'NE': 'Nebraska',\n",
       " 'NV': 'Nevada',\n",
       " 'NH': 'New Hampshire',\n",
       " 'NJ': 'New Jersey',\n",
       " 'NM': 'New Mexico',\n",
       " 'NY': 'New York',\n",
       " 'NC': 'North Carolina',\n",
       " 'ND': 'North Dakota',\n",
       " 'OH': 'Ohio',\n",
       " 'OK': 'Oklahoma',\n",
       " 'OR': 'Oregon',\n",
       " 'PA': 'Pennsylvania',\n",
       " 'RI': 'Rhode Island',\n",
       " 'SC': 'South Carolina',\n",
       " 'SD': 'South Dakota',\n",
       " 'TN': 'Tennessee',\n",
       " 'TX': 'Texas',\n",
       " 'UT': 'Utah',\n",
       " 'VT': 'Vermont',\n",
       " 'VA': 'Virginia',\n",
       " 'WA': 'Washington',\n",
       " 'WV': 'West Virginia',\n",
       " 'WI': 'Wisconsin',\n",
       " 'WY': 'Wyoming'}"
      ]
     },
     "execution_count": 885,
     "metadata": {},
     "output_type": "execute_result"
    }
   ],
   "source": [
    "## Constructing a dictionary with keys as the abbrivations of the states and full-names as the values\n",
    "\n",
    "\n",
    "keys_1=list(state_abb)\n",
    "values_1= list(state_names)\n",
    "dict_states= dict(zip(keys_1, values_1))\n",
    "dict_states"
   ]
  },
  {
   "cell_type": "code",
   "execution_count": 886,
   "id": "124ddaef",
   "metadata": {},
   "outputs": [
    {
     "data": {
      "text/plain": [
       "array(['Alabama', 'Alaska', 'Arizona', 'Arkansas', 'California', 'Colorado', 'Connecticut', 'DC',\n",
       "       'Delaware', 'Florida', 'Georgia', 'Hawaii', 'Illinois', 'Indiana', 'Kansas', 'Kentucky',\n",
       "       'Louisiana', 'Maine', 'Maryland', 'Massachusetts', 'Michigan', 'Minnesota', 'Mississippi',\n",
       "       'Missouri', 'Montana', 'Nebraska', 'Nevada', 'New Hampshire', 'New Jersey', 'New Mexico',\n",
       "       'New York', 'North Carolina', 'North Dakota', 'Ohio', 'Oklahoma', 'Oregon', 'Pennsylvania',\n",
       "       'Rhode Island', 'South Carolina', 'South Dakota', 'Tennessee', 'Texas', 'Utah', 'Vermont',\n",
       "       'Virginia', 'Washington', 'West Virginia', 'Wisconsin', 'Wyoming', 'red_flag'], dtype='<U69')"
      ]
     },
     "execution_count": 886,
     "metadata": {},
     "output_type": "execute_result"
    }
   ],
   "source": [
    "## Replacing with the full state names\n",
    "\n",
    "\n",
    "for i in keys_1:\n",
    "    data_string[:,5]= np.where(data_string[:,5]==i,\n",
    "                               dict_states[i],\n",
    "                               data_string[:,5])\n",
    "np.unique(data_string[:,5])"
   ]
  },
  {
   "cell_type": "code",
   "execution_count": 887,
   "id": "1255df9e",
   "metadata": {},
   "outputs": [
    {
     "data": {
      "text/plain": [
       "array(['issue_date', 'loan_status', 'term', 'sub_grade', 'verification_status', 'addr_state'],\n",
       "      dtype='<U19')"
      ]
     },
     "execution_count": 887,
     "metadata": {},
     "output_type": "execute_result"
    }
   ],
   "source": [
    "header_strings"
   ]
  },
  {
   "cell_type": "code",
   "execution_count": 888,
   "id": "45867c94",
   "metadata": {},
   "outputs": [
    {
     "data": {
      "text/plain": [
       "array([['May', 'OK', '36', '13', 'OK', 'California'],\n",
       "       ['red_flag', 'OK', '36', '5', 'OK', 'New York'],\n",
       "       ['Sep', 'OK', '36', '10', 'OK', 'Pennsylvania'],\n",
       "       ...,\n",
       "       ['Jun', 'OK', '36', '5', 'OK', 'California'],\n",
       "       ['Apr', 'OK', '36', '17', 'OK', 'Ohio'],\n",
       "       ['Dec', 'OK', '36', '4', 'red_flag', 'Illinois']], dtype='<U69')"
      ]
     },
     "execution_count": 888,
     "metadata": {},
     "output_type": "execute_result"
    }
   ],
   "source": [
    "data_string"
   ]
  },
  {
   "cell_type": "markdown",
   "id": "5aa00a3b",
   "metadata": {},
   "source": [
    "# Manipulating Numeric Data"
   ]
  },
  {
   "cell_type": "code",
   "execution_count": 889,
   "id": "fed719d4",
   "metadata": {},
   "outputs": [
    {
     "data": {
      "text/plain": [
       "array(['id', 'loan_amnt', 'funded_amnt', 'int_rate', 'installment', 'total_pymnt'], dtype='<U19')"
      ]
     },
     "execution_count": 889,
     "metadata": {},
     "output_type": "execute_result"
    }
   ],
   "source": [
    "header_numeric"
   ]
  },
  {
   "cell_type": "code",
   "execution_count": 890,
   "id": "475afdc1",
   "metadata": {},
   "outputs": [
    {
     "data": {
      "text/plain": [
       "array([[48010226.  ,    35000.  ,    35000.  ,       13.33,     1184.86,     9452.96],\n",
       "       [57693261.  ,    30000.  ,    30000.  , 68616520.  ,      938.57,     4679.7 ],\n",
       "       [59432726.  ,    15000.  ,    15000.  , 68616520.  ,      494.86,     1969.83],\n",
       "       ...,\n",
       "       [50415990.  ,    10000.  ,    10000.  , 68616520.  , 68616520.  ,     2185.64],\n",
       "       [46154151.  , 68616520.  ,    10000.  ,       16.55,      354.3 ,     3199.4 ],\n",
       "       [66055249.  ,    10000.  ,    10000.  , 68616520.  ,      309.97,      301.9 ]])"
      ]
     },
     "execution_count": 890,
     "metadata": {},
     "output_type": "execute_result"
    }
   ],
   "source": [
    "data_numeric"
   ]
  },
  {
   "cell_type": "code",
   "execution_count": 891,
   "id": "a92c8dfb",
   "metadata": {},
   "outputs": [
    {
     "data": {
      "text/plain": [
       "8005"
      ]
     },
     "execution_count": 891,
     "metadata": {},
     "output_type": "execute_result"
    }
   ],
   "source": [
    "np.isin(data_numeric, temporary_fill).sum()"
   ]
  },
  {
   "cell_type": "markdown",
   "id": "e0c0af95",
   "metadata": {},
   "source": [
    "## ID"
   ]
  },
  {
   "cell_type": "code",
   "execution_count": 892,
   "id": "65fe4348",
   "metadata": {},
   "outputs": [
    {
     "data": {
      "text/plain": [
       "0"
      ]
     },
     "execution_count": 892,
     "metadata": {},
     "output_type": "execute_result"
    }
   ],
   "source": [
    "np.isin(data_numeric[:,0], temporary_fill).sum()"
   ]
  },
  {
   "cell_type": "code",
   "execution_count": 893,
   "id": "afb6e657",
   "metadata": {
    "scrolled": false
   },
   "outputs": [
    {
     "data": {
      "text/plain": [
       "array([[68616519.  ,    35000.  ,    35000.  ,       28.99,     1372.97,    41913.62],\n",
       "       [54015809.19,    15273.46,    15311.04,       16.62,      440.92,     3143.85],\n",
       "       [  373332.  ,     1000.  ,     1000.  ,        6.  ,       31.42,        0.  ]])"
      ]
     },
     "execution_count": 893,
     "metadata": {},
     "output_type": "execute_result"
    }
   ],
   "source": [
    "raw_stats[:,col_numeric]"
   ]
  },
  {
   "cell_type": "markdown",
   "id": "2aa05bca",
   "metadata": {},
   "source": [
    "## Funded Amount"
   ]
  },
  {
   "cell_type": "code",
   "execution_count": 894,
   "id": "116b2173",
   "metadata": {},
   "outputs": [
    {
     "data": {
      "text/plain": [
       "array([35000., 30000., 15000., ..., 10000., 10000., 10000.])"
      ]
     },
     "execution_count": 894,
     "metadata": {},
     "output_type": "execute_result"
    }
   ],
   "source": [
    "data_numeric[:,2]"
   ]
  },
  {
   "cell_type": "code",
   "execution_count": 895,
   "id": "76d3ce2f",
   "metadata": {},
   "outputs": [
    {
     "data": {
      "text/plain": [
       "500"
      ]
     },
     "execution_count": 895,
     "metadata": {},
     "output_type": "execute_result"
    }
   ],
   "source": [
    "np.isin(data_numeric[:,2], temporary_fill).sum()"
   ]
  },
  {
   "cell_type": "code",
   "execution_count": 896,
   "id": "44ec4c9d",
   "metadata": {},
   "outputs": [
    {
     "data": {
      "text/plain": [
       "0"
      ]
     },
     "execution_count": 896,
     "metadata": {},
     "output_type": "execute_result"
    }
   ],
   "source": [
    "## filling the missing values with minimum value of the column using the raw_stats array\n",
    "## created earlier\n",
    "\n",
    "\n",
    "data_numeric[:,2] = np.where(data_numeric[:,2]==temporary_fill,\n",
    "                              raw_stats[0,col_numeric[2]],\n",
    "                              data_numeric[:,2])\n",
    "np.isin(data_numeric[:,2], temporary_fill).sum()"
   ]
  },
  {
   "cell_type": "markdown",
   "id": "784fb112",
   "metadata": {},
   "source": [
    "## Loan amount, Interest rate, Installments and Total payment"
   ]
  },
  {
   "cell_type": "code",
   "execution_count": 897,
   "id": "50bea0a4",
   "metadata": {},
   "outputs": [
    {
     "data": {
      "text/plain": [
       "array(['id', 'loan_amnt', 'funded_amnt', 'int_rate', 'installment', 'total_pymnt'], dtype='<U19')"
      ]
     },
     "execution_count": 897,
     "metadata": {},
     "output_type": "execute_result"
    }
   ],
   "source": [
    "header_numeric"
   ]
  },
  {
   "cell_type": "code",
   "execution_count": 898,
   "id": "e4a708e6",
   "metadata": {},
   "outputs": [
    {
     "data": {
      "text/plain": [
       "0"
      ]
     },
     "execution_count": 898,
     "metadata": {},
     "output_type": "execute_result"
    }
   ],
   "source": [
    "## filling the missing values with mean value of the column using the raw_stats array\n",
    "## created earlier\n",
    "\n",
    "for i in [1, 3 ,4, 5]:\n",
    "    data_numeric[:,i] = np.where(data_numeric[:,i]==temporary_fill,\n",
    "                                  raw_stats[1, col_numeric[i]],\n",
    "                                  data_numeric[:,i])\n",
    "\n",
    "np.isin(data_numeric, temporary_fill).sum()  "
   ]
  },
  {
   "cell_type": "markdown",
   "id": "438537d3",
   "metadata": {},
   "source": [
    "# Adding Exchange rates"
   ]
  },
  {
   "cell_type": "code",
   "execution_count": 899,
   "id": "619ddf48",
   "metadata": {},
   "outputs": [
    {
     "data": {
      "text/plain": [
       "array([1.13, 1.12, 1.08, 1.11, 1.1 , 1.12, 1.09, 1.13, 1.13, 1.1 , 1.06, 1.09])"
      ]
     },
     "execution_count": 899,
     "metadata": {},
     "output_type": "execute_result"
    }
   ],
   "source": [
    "## Importing the file containing the exchange rates between USD and Euros\n",
    "\n",
    "\n",
    "Eur_usd = np.genfromtxt(\"EUR-USD.csv\", delimiter=\",\", autostrip=True, skip_header=1, usecols=3)\n",
    "Eur_usd"
   ]
  },
  {
   "cell_type": "code",
   "execution_count": 900,
   "id": "b220d935",
   "metadata": {
    "scrolled": true
   },
   "outputs": [
    {
     "data": {
      "text/plain": [
       "array(['id', 'loan_amnt', 'funded_amnt', 'int_rate', 'installment', 'total_pymnt'], dtype='<U19')"
      ]
     },
     "execution_count": 900,
     "metadata": {},
     "output_type": "execute_result"
    }
   ],
   "source": [
    "header_numeric"
   ]
  },
  {
   "cell_type": "code",
   "execution_count": 901,
   "id": "fceb9e32",
   "metadata": {},
   "outputs": [
    {
     "data": {
      "text/plain": [
       "array(['issue_date', 'loan_status', 'term', 'sub_grade', 'verification_status', 'addr_state'],\n",
       "      dtype='<U19')"
      ]
     },
     "execution_count": 901,
     "metadata": {},
     "output_type": "execute_result"
    }
   ],
   "source": [
    "header_strings"
   ]
  },
  {
   "cell_type": "code",
   "execution_count": 902,
   "id": "bd2f9cf4",
   "metadata": {},
   "outputs": [
    {
     "data": {
      "text/plain": [
       "array(['Apr', 'Aug', 'Dec', 'Feb', 'Jan', 'Jul', 'Jun', 'Mar', 'May', 'Nov', 'Oct', 'Sep',\n",
       "       'red_flag'], dtype='<U69')"
      ]
     },
     "execution_count": 902,
     "metadata": {},
     "output_type": "execute_result"
    }
   ],
   "source": [
    "## Creating a new array ex_rates containing all the months \n",
    "\n",
    "\n",
    "ex_rates= data_string[:,0]\n",
    "np.unique(ex_rates)"
   ]
  },
  {
   "cell_type": "code",
   "execution_count": 903,
   "id": "3d38e969",
   "metadata": {},
   "outputs": [
    {
     "data": {
      "text/plain": [
       "{'Jan': 1.1287955045700073,\n",
       " 'Feb': 1.1205360889434814,\n",
       " 'Mar': 1.0830246210098267,\n",
       " 'Apr': 1.1114321947097778,\n",
       " 'May': 1.0960345268249512,\n",
       " 'Jun': 1.122296690940857,\n",
       " 'Jul': 1.0939244031906128,\n",
       " 'Aug': 1.1340054273605347,\n",
       " 'Sep': 1.1255937814712524,\n",
       " 'Oct': 1.100897192955017,\n",
       " 'Nov': 1.0583018064498901,\n",
       " 'Dec': 1.093398094177246}"
      ]
     },
     "execution_count": 903,
     "metadata": {},
     "output_type": "execute_result"
    }
   ],
   "source": [
    "## Constructing a dictionary with months as keys and corresponding exchange rates \n",
    "## as values.\n",
    "\n",
    "\n",
    "k=list(['Jan','Feb','Mar','Apr','May','Jun','Jul','Aug','Sep','Oct','Nov','Dec'])\n",
    "v= list(Eur_usd)\n",
    "dict_ex= dict(zip(k,v))\n",
    "dict_ex"
   ]
  },
  {
   "cell_type": "code",
   "execution_count": 904,
   "id": "4a77994d",
   "metadata": {},
   "outputs": [
    {
     "data": {
      "text/plain": [
       "array(['1.0960345268249512', '1.1056866943836212', '1.1255937814712524', ..., '1.122296690940857',\n",
       "       '1.1114321947097778', '1.093398094177246'], dtype='<U69')"
      ]
     },
     "execution_count": 904,
     "metadata": {},
     "output_type": "execute_result"
    }
   ],
   "source": [
    "## Substituting the corresponding exchange rate values for each month\n",
    "\n",
    "\n",
    "for i in k:\n",
    "    ex_rates=np.where(ex_rates==i,\n",
    "                      dict_ex[i],\n",
    "                      ex_rates)\n",
    "\n",
    "\n",
    "## The field where month is not mentioned, we will consider the exchange rate to be \n",
    "## the mean of all exchange rates.\n",
    "\n",
    "\n",
    "ex_rates= np.where(ex_rates=='red_flag',\n",
    "                   np.mean(Eur_usd),\n",
    "                   ex_rates)\n",
    "ex_rates"
   ]
  },
  {
   "cell_type": "code",
   "execution_count": 905,
   "id": "257e2473",
   "metadata": {
    "scrolled": true
   },
   "outputs": [
    {
     "name": "stderr",
     "output_type": "stream",
     "text": [
      "C:\\Users\\Tushar\\AppData\\Local\\Temp/ipykernel_9360/220664133.py:4: DeprecationWarning: `np.float` is a deprecated alias for the builtin `float`. To silence this warning, use `float` by itself. Doing this will not modify any behavior and is safe. If you specifically wanted the numpy scalar type, use `np.float64` here.\n",
      "Deprecated in NumPy 1.20; for more details and guidance: https://numpy.org/devdocs/release/1.20.0-notes.html#deprecations\n",
      "  ex_rates=ex_rates.astype(np.float)\n"
     ]
    },
    {
     "data": {
      "text/plain": [
       "array([1.1 , 1.11, 1.13, ..., 1.12, 1.11, 1.09])"
      ]
     },
     "execution_count": 905,
     "metadata": {},
     "output_type": "execute_result"
    }
   ],
   "source": [
    "## Converting the rates into float values\n",
    "\n",
    "\n",
    "ex_rates=ex_rates.astype(np.float)\n",
    "ex_rates"
   ]
  },
  {
   "cell_type": "code",
   "execution_count": 906,
   "id": "93ce0d37",
   "metadata": {},
   "outputs": [
    {
     "data": {
      "text/plain": [
       "(10000,)"
      ]
     },
     "execution_count": 906,
     "metadata": {},
     "output_type": "execute_result"
    }
   ],
   "source": [
    "ex_rates.shape"
   ]
  },
  {
   "cell_type": "code",
   "execution_count": 907,
   "id": "e9d5c693",
   "metadata": {},
   "outputs": [],
   "source": [
    "ex_rates=np.reshape(ex_rates,(10000,1))"
   ]
  },
  {
   "cell_type": "code",
   "execution_count": 908,
   "id": "dfedb15a",
   "metadata": {},
   "outputs": [
    {
     "data": {
      "text/plain": [
       "(10000, 1)"
      ]
     },
     "execution_count": 908,
     "metadata": {},
     "output_type": "execute_result"
    }
   ],
   "source": [
    "ex_rates.shape"
   ]
  },
  {
   "cell_type": "code",
   "execution_count": 909,
   "id": "5a702101",
   "metadata": {},
   "outputs": [
    {
     "data": {
      "text/plain": [
       "array(['id', 'loan_amnt', 'funded_amnt', 'int_rate', 'installment', 'total_pymnt'], dtype='<U19')"
      ]
     },
     "execution_count": 909,
     "metadata": {},
     "output_type": "execute_result"
    }
   ],
   "source": [
    "header_numeric"
   ]
  },
  {
   "cell_type": "code",
   "execution_count": 910,
   "id": "c444e0f6",
   "metadata": {},
   "outputs": [],
   "source": [
    "vals_tobe_converted = np.array([1,2,4,5])"
   ]
  },
  {
   "cell_type": "code",
   "execution_count": 911,
   "id": "223d98d9",
   "metadata": {
    "scrolled": true
   },
   "outputs": [
    {
     "data": {
      "text/plain": [
       "array([[35000.  , 35000.  ,  1184.86,  9452.96],\n",
       "       [30000.  , 30000.  ,   938.57,  4679.7 ],\n",
       "       [15000.  , 15000.  ,   494.86,  1969.83],\n",
       "       ...,\n",
       "       [10000.  , 10000.  ,   440.92,  2185.64],\n",
       "       [15273.46, 10000.  ,   354.3 ,  3199.4 ],\n",
       "       [10000.  , 10000.  ,   309.97,   301.9 ]])"
      ]
     },
     "execution_count": 911,
     "metadata": {},
     "output_type": "execute_result"
    }
   ],
   "source": [
    "## Creating a new array of the values to be converted into Euros\n",
    "\n",
    "\n",
    "cols_dollars= data_numeric[:, vals_tobe_converted]\n",
    "cols_dollars"
   ]
  },
  {
   "cell_type": "code",
   "execution_count": 912,
   "id": "b4f048f4",
   "metadata": {},
   "outputs": [
    {
     "data": {
      "text/plain": [
       "array([[31933.3 , 31933.3 ,  1081.04,  8624.69],\n",
       "       [27132.46, 27132.46,   848.86,  4232.39],\n",
       "       [13326.3 , 13326.3 ,   439.64,  1750.04],\n",
       "       ...,\n",
       "       [ 8910.3 ,  8910.3 ,   392.87,  1947.47],\n",
       "       [13742.15,  8997.4 ,   318.78,  2878.63],\n",
       "       [ 9145.8 ,  9145.8 ,   283.49,   276.11]])"
      ]
     },
     "execution_count": 912,
     "metadata": {},
     "output_type": "execute_result"
    }
   ],
   "source": [
    "## Converting USD(US-Dollar) to Euro\n",
    "\n",
    "\n",
    "cols_dollars=cols_dollars/ex_rates\n",
    "cols_dollars"
   ]
  },
  {
   "cell_type": "code",
   "execution_count": 913,
   "id": "a122ffd6",
   "metadata": {},
   "outputs": [
    {
     "data": {
      "text/plain": [
       "array(['loan_amnt_USD', 'funded_amnt_USD', 'installment_USD', 'total_pymnt_USD'], dtype='<U15')"
      ]
     },
     "execution_count": 913,
     "metadata": {},
     "output_type": "execute_result"
    }
   ],
   "source": [
    "## Adding new header for the converted values\n",
    "\n",
    "\n",
    "header_usd = np.array([col_name + '_USD' for col_name in header_numeric[vals_tobe_converted]])\n",
    "header_usd"
   ]
  },
  {
   "cell_type": "code",
   "execution_count": 914,
   "id": "2bf1f9a3",
   "metadata": {},
   "outputs": [
    {
     "data": {
      "text/plain": [
       "array(['id', 'loan_amnt', 'funded_amnt', 'int_rate', 'installment', 'total_pymnt', 'loan_amnt_USD',\n",
       "       'funded_amnt_USD', 'installment_USD', 'total_pymnt_USD'], dtype='<U19')"
      ]
     },
     "execution_count": 914,
     "metadata": {},
     "output_type": "execute_result"
    }
   ],
   "source": [
    "## Merging the headers of all numeric values\n",
    "\n",
    "\n",
    "header_numeric= np.concatenate((header_numeric,header_usd))\n",
    "header_numeric"
   ]
  },
  {
   "cell_type": "code",
   "execution_count": 915,
   "id": "16dda526",
   "metadata": {
    "scrolled": true
   },
   "outputs": [
    {
     "data": {
      "text/plain": [
       "array([[48010226.  ,    35000.  ,    35000.  , ...,    31933.3 ,     1081.04,     8624.69],\n",
       "       [57693261.  ,    30000.  ,    30000.  , ...,    27132.46,      848.86,     4232.39],\n",
       "       [59432726.  ,    15000.  ,    15000.  , ...,    13326.3 ,      439.64,     1750.04],\n",
       "       ...,\n",
       "       [50415990.  ,    10000.  ,    10000.  , ...,     8910.3 ,      392.87,     1947.47],\n",
       "       [46154151.  ,    15273.46,    10000.  , ...,     8997.4 ,      318.78,     2878.63],\n",
       "       [66055249.  ,    10000.  ,    10000.  , ...,     9145.8 ,      283.49,      276.11]])"
      ]
     },
     "execution_count": 915,
     "metadata": {},
     "output_type": "execute_result"
    }
   ],
   "source": [
    "## Combining headers and the data using horizontal stacking of numpy\n",
    "\n",
    "\n",
    "data_numeric= np.hstack((data_numeric, cols_dollars))\n",
    "data_numeric"
   ]
  },
  {
   "cell_type": "code",
   "execution_count": 916,
   "id": "c8a256d9",
   "metadata": {},
   "outputs": [],
   "source": [
    "## Adding the exchage rate columns to the numeric data\n",
    "\n",
    "\n",
    "data_numeric=np.hstack((data_numeric,ex_rates))"
   ]
  },
  {
   "cell_type": "code",
   "execution_count": 917,
   "id": "6fccd9a2",
   "metadata": {},
   "outputs": [
    {
     "data": {
      "text/plain": [
       "array(['id', 'loan_amnt_EUR', 'funded_amnt_EUR', 'int_rate', 'installment_EUR', 'total_pymnt_EUR',\n",
       "       'loan_amnt_USD', 'funded_amnt_USD', 'installment_USD', 'total_pymnt_USD'], dtype='<U19')"
      ]
     },
     "execution_count": 917,
     "metadata": {},
     "output_type": "execute_result"
    }
   ],
   "source": [
    "header_numeric[vals_tobe_converted]= np.array([col_name + '_EUR' for col_name in header_numeric[vals_tobe_converted]])\n",
    "header_numeric"
   ]
  },
  {
   "cell_type": "code",
   "execution_count": 918,
   "id": "9b678c1d",
   "metadata": {},
   "outputs": [
    {
     "data": {
      "text/plain": [
       "array(['id', 'loan_amnt_EUR', 'funded_amnt_EUR', 'int_rate', 'installment_EUR', 'total_pymnt_EUR',\n",
       "       'loan_amnt_USD', 'funded_amnt_USD', 'installment_USD', 'total_pymnt_USD', 'exch_rate'],\n",
       "      dtype='<U19')"
      ]
     },
     "execution_count": 918,
     "metadata": {},
     "output_type": "execute_result"
    }
   ],
   "source": [
    "header_numeric= np.concatenate((header_numeric,np.array(['exch_rate'])))\n",
    "header_numeric"
   ]
  },
  {
   "cell_type": "code",
   "execution_count": 919,
   "id": "7961cc7b",
   "metadata": {},
   "outputs": [
    {
     "data": {
      "text/plain": [
       "array(['id', 'loan_amnt_EUR', 'loan_amnt_USD', 'funded_amnt_EUR', 'funded_amnt_USD', 'int_rate',\n",
       "       'installment_EUR', 'installment_USD', 'total_pymnt_EUR', 'total_pymnt_USD', 'exch_rate'],\n",
       "      dtype='<U19')"
      ]
     },
     "execution_count": 919,
     "metadata": {},
     "output_type": "execute_result"
    }
   ],
   "source": [
    "## Rearranging the columns\n",
    "\n",
    "\n",
    "columns_index_order = [0,1,6,2,7,3,4,8,5,9,10]\n",
    "header_numeric = header_numeric[columns_index_order]\n",
    "header_numeric"
   ]
  },
  {
   "cell_type": "code",
   "execution_count": 920,
   "id": "9040f7d0",
   "metadata": {},
   "outputs": [
    {
     "data": {
      "text/plain": [
       "array([[48010226.  ,    35000.  ,    31933.3 , ...,     9452.96,     8624.69,        1.1 ],\n",
       "       [57693261.  ,    30000.  ,    27132.46, ...,     4679.7 ,     4232.39,        1.11],\n",
       "       [59432726.  ,    15000.  ,    13326.3 , ...,     1969.83,     1750.04,        1.13],\n",
       "       ...,\n",
       "       [50415990.  ,    10000.  ,     8910.3 , ...,     2185.64,     1947.47,        1.12],\n",
       "       [46154151.  ,    15273.46,    13742.15, ...,     3199.4 ,     2878.63,        1.11],\n",
       "       [66055249.  ,    10000.  ,     9145.8 , ...,      301.9 ,      276.11,        1.09]])"
      ]
     },
     "execution_count": 920,
     "metadata": {},
     "output_type": "execute_result"
    }
   ],
   "source": [
    "data_numeric = data_numeric[:,columns_index_order]\n",
    "data_numeric"
   ]
  },
  {
   "cell_type": "code",
   "execution_count": 921,
   "id": "890ca08f",
   "metadata": {},
   "outputs": [
    {
     "data": {
      "text/plain": [
       "array([['48010226.0', '35000.0', '31933.300588066133', ..., '13', 'OK', 'California'],\n",
       "       ['57693261.0', '30000.0', '27132.459992858894', ..., '5', 'OK', 'New York'],\n",
       "       ['59432726.0', '15000.0', '13326.299635729729', ..., '10', 'OK', 'Pennsylvania'],\n",
       "       ...,\n",
       "       ['50415990.0', '10000.0', '8910.299817080173', ..., '5', 'OK', 'California'],\n",
       "       ['46154151.0', '15273.463157894737', '13742.145702269325', ..., '17', 'OK', 'Ohio'],\n",
       "       ['66055249.0', '10000.0', '9145.799735022167', ..., '4', 'red_flag', 'Illinois']],\n",
       "      dtype='<U69')"
      ]
     },
     "execution_count": 921,
     "metadata": {},
     "output_type": "execute_result"
    }
   ],
   "source": [
    "## Combining the data of both string and numeric columns\n",
    "\n",
    "loan_data_final= np.hstack((data_numeric, data_string))\n",
    "loan_data_final"
   ]
  },
  {
   "cell_type": "code",
   "execution_count": 922,
   "id": "e81c9f0d",
   "metadata": {},
   "outputs": [
    {
     "data": {
      "text/plain": [
       "(10000, 17)"
      ]
     },
     "execution_count": 922,
     "metadata": {},
     "output_type": "execute_result"
    }
   ],
   "source": [
    "loan_data_final.shape"
   ]
  },
  {
   "cell_type": "code",
   "execution_count": 923,
   "id": "31da4b42",
   "metadata": {},
   "outputs": [
    {
     "data": {
      "text/plain": [
       "array(['id', 'loan_amnt_EUR', 'loan_amnt_USD', 'funded_amnt_EUR', 'funded_amnt_USD', 'int_rate',\n",
       "       'installment_EUR', 'installment_USD', 'total_pymnt_EUR', 'total_pymnt_USD', 'exch_rate',\n",
       "       'issue_date', 'loan_status', 'term', 'sub_grade', 'verification_status', 'addr_state'],\n",
       "      dtype='<U19')"
      ]
     },
     "execution_count": 923,
     "metadata": {},
     "output_type": "execute_result"
    }
   ],
   "source": [
    "## Combining the headers of both string and numeric data\n",
    "\n",
    "\n",
    "comp_header= np.concatenate((header_numeric, header_strings))\n",
    "comp_header"
   ]
  },
  {
   "cell_type": "code",
   "execution_count": 924,
   "id": "bbf352f3",
   "metadata": {},
   "outputs": [
    {
     "data": {
      "text/plain": [
       "array([['id', 'loan_amnt_EUR', 'loan_amnt_USD', ..., 'sub_grade', 'verification_status',\n",
       "        'addr_state'],\n",
       "       ['48010226.0', '35000.0', '31933.300588066133', ..., '13', 'OK', 'California'],\n",
       "       ['57693261.0', '30000.0', '27132.459992858894', ..., '5', 'OK', 'New York'],\n",
       "       ...,\n",
       "       ['50415990.0', '10000.0', '8910.299817080173', ..., '5', 'OK', 'California'],\n",
       "       ['46154151.0', '15273.463157894737', '13742.145702269325', ..., '17', 'OK', 'Ohio'],\n",
       "       ['66055249.0', '10000.0', '9145.799735022167', ..., '4', 'red_flag', 'Illinois']],\n",
       "      dtype='<U69')"
      ]
     },
     "execution_count": 924,
     "metadata": {},
     "output_type": "execute_result"
    }
   ],
   "source": [
    "## Merging the complete data \n",
    "\n",
    "\n",
    "loan_data_final= np.vstack((comp_header, loan_data_final))\n",
    "loan_data_final"
   ]
  },
  {
   "cell_type": "code",
   "execution_count": 925,
   "id": "293b5f7e",
   "metadata": {},
   "outputs": [],
   "source": [
    "## Saving as CSV\n",
    "\n",
    "np.savetxt(\"loan-data-final-preprocessed.csv\", \n",
    "           loan_data_final, \n",
    "           fmt = '%s',\n",
    "           delimiter = ',')"
   ]
  },
  {
   "cell_type": "code",
   "execution_count": 926,
   "id": "2f9ceb14",
   "metadata": {},
   "outputs": [],
   "source": [
    "## Using pandas to display the complete data in a more orgnised manner\n",
    "\n",
    "\n",
    "import pandas as pd"
   ]
  },
  {
   "cell_type": "markdown",
   "id": "aa531551",
   "metadata": {},
   "source": [
    "# Data before cleaning"
   ]
  },
  {
   "cell_type": "code",
   "execution_count": 927,
   "id": "fb328722",
   "metadata": {},
   "outputs": [
    {
     "data": {
      "text/html": [
       "<div>\n",
       "<style scoped>\n",
       "    .dataframe tbody tr th:only-of-type {\n",
       "        vertical-align: middle;\n",
       "    }\n",
       "\n",
       "    .dataframe tbody tr th {\n",
       "        vertical-align: top;\n",
       "    }\n",
       "\n",
       "    .dataframe thead th {\n",
       "        text-align: right;\n",
       "    }\n",
       "</style>\n",
       "<table border=\"1\" class=\"dataframe\">\n",
       "  <thead>\n",
       "    <tr style=\"text-align: right;\">\n",
       "      <th></th>\n",
       "      <th>id</th>\n",
       "      <th>issue_d</th>\n",
       "      <th>loan_amnt</th>\n",
       "      <th>loan_status</th>\n",
       "      <th>funded_amnt</th>\n",
       "      <th>term</th>\n",
       "      <th>int_rate</th>\n",
       "      <th>installment</th>\n",
       "      <th>grade</th>\n",
       "      <th>sub_grade</th>\n",
       "      <th>verification_status</th>\n",
       "      <th>url</th>\n",
       "      <th>addr_state</th>\n",
       "      <th>total_pymnt</th>\n",
       "    </tr>\n",
       "  </thead>\n",
       "  <tbody>\n",
       "    <tr>\n",
       "      <th>0</th>\n",
       "      <td>48010226</td>\n",
       "      <td>May-15</td>\n",
       "      <td>35000.0</td>\n",
       "      <td>Current</td>\n",
       "      <td>35000.0</td>\n",
       "      <td>36 months</td>\n",
       "      <td>13.33</td>\n",
       "      <td>1184.86</td>\n",
       "      <td>C</td>\n",
       "      <td>C3</td>\n",
       "      <td>Verified</td>\n",
       "      <td>https://www.lendingclub.com/browse/loanDetail....</td>\n",
       "      <td>CA</td>\n",
       "      <td>9452.96</td>\n",
       "    </tr>\n",
       "    <tr>\n",
       "      <th>1</th>\n",
       "      <td>57693261</td>\n",
       "      <td>NaN</td>\n",
       "      <td>30000.0</td>\n",
       "      <td>Current</td>\n",
       "      <td>30000.0</td>\n",
       "      <td>36 months</td>\n",
       "      <td>þëè.89</td>\n",
       "      <td>938.57</td>\n",
       "      <td>A</td>\n",
       "      <td>A5</td>\n",
       "      <td>Source Verified</td>\n",
       "      <td>https://www.lendingclub.com/browse/loanDetail....</td>\n",
       "      <td>NY</td>\n",
       "      <td>4679.70</td>\n",
       "    </tr>\n",
       "    <tr>\n",
       "      <th>2</th>\n",
       "      <td>59432726</td>\n",
       "      <td>Sep-15</td>\n",
       "      <td>15000.0</td>\n",
       "      <td>Current</td>\n",
       "      <td>15000.0</td>\n",
       "      <td>36 months</td>\n",
       "      <td>íîå.53</td>\n",
       "      <td>494.86</td>\n",
       "      <td>B</td>\n",
       "      <td>B5</td>\n",
       "      <td>Verified</td>\n",
       "      <td>https://www.lendingclub.com/browse/loanDetail....</td>\n",
       "      <td>PA</td>\n",
       "      <td>1969.83</td>\n",
       "    </tr>\n",
       "    <tr>\n",
       "      <th>3</th>\n",
       "      <td>53222800</td>\n",
       "      <td>Jul-15</td>\n",
       "      <td>9600.0</td>\n",
       "      <td>Current</td>\n",
       "      <td>9600.0</td>\n",
       "      <td>36 months</td>\n",
       "      <td>þëè.89</td>\n",
       "      <td>300.35</td>\n",
       "      <td>A</td>\n",
       "      <td>A5</td>\n",
       "      <td>Not Verified</td>\n",
       "      <td>https://www.lendingclub.com/browse/loanDetail....</td>\n",
       "      <td>OH</td>\n",
       "      <td>1793.68</td>\n",
       "    </tr>\n",
       "    <tr>\n",
       "      <th>4</th>\n",
       "      <td>57803010</td>\n",
       "      <td>Aug-15</td>\n",
       "      <td>8075.0</td>\n",
       "      <td>Current</td>\n",
       "      <td>8075.0</td>\n",
       "      <td>36 months</td>\n",
       "      <td>19.19</td>\n",
       "      <td>296.78</td>\n",
       "      <td>NaN</td>\n",
       "      <td>E3</td>\n",
       "      <td>Source Verified</td>\n",
       "      <td>https://www.lendingclub.com/browse/loanDetail....</td>\n",
       "      <td>TX</td>\n",
       "      <td>1178.51</td>\n",
       "    </tr>\n",
       "  </tbody>\n",
       "</table>\n",
       "</div>"
      ],
      "text/plain": [
       "         id issue_d  loan_amnt loan_status  funded_amnt        term int_rate  \\\n",
       "0  48010226  May-15    35000.0     Current      35000.0   36 months    13.33   \n",
       "1  57693261     NaN    30000.0     Current      30000.0   36 months   þëè.89   \n",
       "2  59432726  Sep-15    15000.0     Current      15000.0   36 months   íîå.53   \n",
       "3  53222800  Jul-15     9600.0     Current       9600.0   36 months   þëè.89   \n",
       "4  57803010  Aug-15     8075.0     Current       8075.0   36 months    19.19   \n",
       "\n",
       "  installment grade sub_grade verification_status  \\\n",
       "0     1184.86     C        C3            Verified   \n",
       "1      938.57     A        A5     Source Verified   \n",
       "2      494.86     B        B5            Verified   \n",
       "3      300.35     A        A5        Not Verified   \n",
       "4      296.78   NaN        E3     Source Verified   \n",
       "\n",
       "                                                 url addr_state  total_pymnt  \n",
       "0  https://www.lendingclub.com/browse/loanDetail....         CA      9452.96  \n",
       "1  https://www.lendingclub.com/browse/loanDetail....         NY      4679.70  \n",
       "2  https://www.lendingclub.com/browse/loanDetail....         PA      1969.83  \n",
       "3  https://www.lendingclub.com/browse/loanDetail....         OH      1793.68  \n",
       "4  https://www.lendingclub.com/browse/loanDetail....         TX      1178.51  "
      ]
     },
     "execution_count": 927,
     "metadata": {},
     "output_type": "execute_result"
    }
   ],
   "source": [
    "before_preprocessing = pd.read_csv(\"loan-data_13.csv\",delimiter=\";\", delim_whitespace=False)\n",
    "before_preprocessing.head()"
   ]
  },
  {
   "cell_type": "markdown",
   "id": "f325d860",
   "metadata": {},
   "source": [
    "# Data after cleaning"
   ]
  },
  {
   "cell_type": "code",
   "execution_count": 928,
   "id": "8e1441df",
   "metadata": {},
   "outputs": [
    {
     "data": {
      "text/html": [
       "<div>\n",
       "<style scoped>\n",
       "    .dataframe tbody tr th:only-of-type {\n",
       "        vertical-align: middle;\n",
       "    }\n",
       "\n",
       "    .dataframe tbody tr th {\n",
       "        vertical-align: top;\n",
       "    }\n",
       "\n",
       "    .dataframe thead th {\n",
       "        text-align: right;\n",
       "    }\n",
       "</style>\n",
       "<table border=\"1\" class=\"dataframe\">\n",
       "  <thead>\n",
       "    <tr style=\"text-align: right;\">\n",
       "      <th></th>\n",
       "      <th>id</th>\n",
       "      <th>loan_amnt_EUR</th>\n",
       "      <th>loan_amnt_USD</th>\n",
       "      <th>funded_amnt_EUR</th>\n",
       "      <th>funded_amnt_USD</th>\n",
       "      <th>int_rate</th>\n",
       "      <th>installment_EUR</th>\n",
       "      <th>installment_USD</th>\n",
       "      <th>total_pymnt_EUR</th>\n",
       "      <th>total_pymnt_USD</th>\n",
       "      <th>exch_rate</th>\n",
       "      <th>issue_date</th>\n",
       "      <th>loan_status</th>\n",
       "      <th>term</th>\n",
       "      <th>sub_grade</th>\n",
       "      <th>verification_status</th>\n",
       "      <th>addr_state</th>\n",
       "    </tr>\n",
       "  </thead>\n",
       "  <tbody>\n",
       "    <tr>\n",
       "      <th>0</th>\n",
       "      <td>48010226.0</td>\n",
       "      <td>35000.0</td>\n",
       "      <td>31933.300588</td>\n",
       "      <td>35000.0</td>\n",
       "      <td>31933.300588</td>\n",
       "      <td>13.330000</td>\n",
       "      <td>1184.86</td>\n",
       "      <td>1081.042587</td>\n",
       "      <td>9452.96</td>\n",
       "      <td>8624.691804</td>\n",
       "      <td>1.096035</td>\n",
       "      <td>May</td>\n",
       "      <td>OK</td>\n",
       "      <td>36</td>\n",
       "      <td>13</td>\n",
       "      <td>OK</td>\n",
       "      <td>California</td>\n",
       "    </tr>\n",
       "    <tr>\n",
       "      <th>1</th>\n",
       "      <td>57693261.0</td>\n",
       "      <td>30000.0</td>\n",
       "      <td>27132.459993</td>\n",
       "      <td>30000.0</td>\n",
       "      <td>27132.459993</td>\n",
       "      <td>16.617295</td>\n",
       "      <td>938.57</td>\n",
       "      <td>848.857099</td>\n",
       "      <td>4679.70</td>\n",
       "      <td>4232.392434</td>\n",
       "      <td>1.105687</td>\n",
       "      <td>red_flag</td>\n",
       "      <td>OK</td>\n",
       "      <td>36</td>\n",
       "      <td>5</td>\n",
       "      <td>OK</td>\n",
       "      <td>New York</td>\n",
       "    </tr>\n",
       "    <tr>\n",
       "      <th>2</th>\n",
       "      <td>59432726.0</td>\n",
       "      <td>15000.0</td>\n",
       "      <td>13326.299636</td>\n",
       "      <td>15000.0</td>\n",
       "      <td>13326.299636</td>\n",
       "      <td>16.617295</td>\n",
       "      <td>494.86</td>\n",
       "      <td>439.643509</td>\n",
       "      <td>1969.83</td>\n",
       "      <td>1750.036321</td>\n",
       "      <td>1.125594</td>\n",
       "      <td>Sep</td>\n",
       "      <td>OK</td>\n",
       "      <td>36</td>\n",
       "      <td>10</td>\n",
       "      <td>OK</td>\n",
       "      <td>Pennsylvania</td>\n",
       "    </tr>\n",
       "    <tr>\n",
       "      <th>3</th>\n",
       "      <td>53222800.0</td>\n",
       "      <td>9600.0</td>\n",
       "      <td>8775.743527</td>\n",
       "      <td>9600.0</td>\n",
       "      <td>8775.743527</td>\n",
       "      <td>16.617295</td>\n",
       "      <td>300.35</td>\n",
       "      <td>274.561934</td>\n",
       "      <td>1793.68</td>\n",
       "      <td>1639.674547</td>\n",
       "      <td>1.093924</td>\n",
       "      <td>Jul</td>\n",
       "      <td>OK</td>\n",
       "      <td>36</td>\n",
       "      <td>5</td>\n",
       "      <td>red_flag</td>\n",
       "      <td>Ohio</td>\n",
       "    </tr>\n",
       "    <tr>\n",
       "      <th>4</th>\n",
       "      <td>57803010.0</td>\n",
       "      <td>8075.0</td>\n",
       "      <td>7120.777207</td>\n",
       "      <td>8075.0</td>\n",
       "      <td>7120.777207</td>\n",
       "      <td>19.190000</td>\n",
       "      <td>296.78</td>\n",
       "      <td>261.709506</td>\n",
       "      <td>1178.51</td>\n",
       "      <td>1039.245467</td>\n",
       "      <td>1.134005</td>\n",
       "      <td>Aug</td>\n",
       "      <td>OK</td>\n",
       "      <td>36</td>\n",
       "      <td>23</td>\n",
       "      <td>OK</td>\n",
       "      <td>Texas</td>\n",
       "    </tr>\n",
       "  </tbody>\n",
       "</table>\n",
       "</div>"
      ],
      "text/plain": [
       "           id  loan_amnt_EUR  loan_amnt_USD  funded_amnt_EUR  funded_amnt_USD  \\\n",
       "0  48010226.0        35000.0   31933.300588          35000.0     31933.300588   \n",
       "1  57693261.0        30000.0   27132.459993          30000.0     27132.459993   \n",
       "2  59432726.0        15000.0   13326.299636          15000.0     13326.299636   \n",
       "3  53222800.0         9600.0    8775.743527           9600.0      8775.743527   \n",
       "4  57803010.0         8075.0    7120.777207           8075.0      7120.777207   \n",
       "\n",
       "    int_rate  installment_EUR  installment_USD  total_pymnt_EUR  \\\n",
       "0  13.330000          1184.86      1081.042587          9452.96   \n",
       "1  16.617295           938.57       848.857099          4679.70   \n",
       "2  16.617295           494.86       439.643509          1969.83   \n",
       "3  16.617295           300.35       274.561934          1793.68   \n",
       "4  19.190000           296.78       261.709506          1178.51   \n",
       "\n",
       "   total_pymnt_USD  exch_rate issue_date loan_status  term sub_grade  \\\n",
       "0      8624.691804   1.096035        May          OK    36        13   \n",
       "1      4232.392434   1.105687   red_flag          OK    36         5   \n",
       "2      1750.036321   1.125594        Sep          OK    36        10   \n",
       "3      1639.674547   1.093924        Jul          OK    36         5   \n",
       "4      1039.245467   1.134005        Aug          OK    36        23   \n",
       "\n",
       "  verification_status    addr_state  \n",
       "0                  OK    California  \n",
       "1                  OK      New York  \n",
       "2                  OK  Pennsylvania  \n",
       "3            red_flag          Ohio  \n",
       "4                  OK         Texas  "
      ]
     },
     "execution_count": 928,
     "metadata": {},
     "output_type": "execute_result"
    }
   ],
   "source": [
    "preprocessed_loan= pd.read_csv(\"loan-data-final-preprocessed.csv\")\n",
    "preprocessed_loan.head()"
   ]
  },
  {
   "cell_type": "code",
   "execution_count": null,
   "id": "2f502abf",
   "metadata": {},
   "outputs": [],
   "source": []
  }
 ],
 "metadata": {
  "kernelspec": {
   "display_name": "Python 3 (ipykernel)",
   "language": "python",
   "name": "python3"
  },
  "language_info": {
   "codemirror_mode": {
    "name": "ipython",
    "version": 3
   },
   "file_extension": ".py",
   "mimetype": "text/x-python",
   "name": "python",
   "nbconvert_exporter": "python",
   "pygments_lexer": "ipython3",
   "version": "3.9.7"
  }
 },
 "nbformat": 4,
 "nbformat_minor": 5
}
